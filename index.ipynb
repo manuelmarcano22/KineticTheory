{
 "cells": [
  {
   "cell_type": "markdown",
   "metadata": {
    "slideshow": {
     "slide_type": "slide"
    }
   },
   "source": [
    "  \n",
    " <center> <h1>Kinetic Theory of Gases<sup>*</sup></h1></center>\n",
    " \n",
    " \n",
    "<center><p><small><sup>*</sup>Chapter 39 Feynman Lectures (http://www.feynmanlectures.caltech.edu/)</small></p></center>\n"
   ]
  },
  {
   "cell_type": "markdown",
   "metadata": {
    "slideshow": {
     "slide_type": "slide"
    }
   },
   "source": [
    " <center> <h1>The pressure of a gas</h1></center>\n",
    "\n",
    "Last class Paul showed that $F = n v_x A \\cdot 2 m v_x$ thus:\n",
    "\n",
    "$$P = 2 n m <v_x ^2>$$\n",
    "\n",
    "\n",
    "<center>\n",
    "<p align=\"center\">\n",
    "  <img width=\"200\"src=\"fgas.svg\">\n",
    "</p>\n",
    "</center>\n",
    "\n",
    "\n"
   ]
  },
  {
   "cell_type": "markdown",
   "metadata": {
    "slideshow": {
     "slide_type": "subslide"
    }
   },
   "source": [
    "<h3> Stop to think</h3>\n",
    "\n",
    "$P = 2 n m <v_x ^2>$\n",
    "\n",
    "The pressure is proportional to the average squared speed \n",
    "of the particles. This means that doubling the speed of all the particles quadruples the pressure. Try to explain this dependence."
   ]
  },
  {
   "cell_type": "markdown",
   "metadata": {
    "slideshow": {
     "slide_type": "subslide"
    }
   },
   "source": [
    "If the particles have high speed:\n",
    "\n",
    "1. they hit the walls more frequently\n",
    "2. exert a greater force during the collison\n",
    "\n",
    "**Thus, it is the speed squared and not just the speed of the particles that affects the pressure.**"
   ]
  },
  {
   "cell_type": "markdown",
   "metadata": {
    "slideshow": {
     "slide_type": "slide"
    }
   },
   "source": [
    "Two sealed containers, labeled A and B \n",
    "as shown, are at the same temperature \n",
    "and each contain the same number of \n",
    "moles of an ideal monatomic gas.  Which \n",
    "one of the following statements \n",
    "concerning these containers is true?   ![](try.png)\n",
    "\n",
    "\n",
    "1. The average speed of the atoms in the gas is greater in B than in A\n",
    "2. The frequency of collisions of atoms with the walls of container B are greater than that for container A\n",
    "3. The kinetic energy of the atoms in the gas is greater in B than in A\n",
    "4. The pressure withinn conatiner B is less than the pressure inside container A\n",
    "5. The fore that the atoms exert on the walls of container B are greater tan in for those in container A\n"
   ]
  },
  {
   "cell_type": "markdown",
   "metadata": {
    "slideshow": {
     "slide_type": "subslide"
    }
   },
   "source": [
    "Two sealed containers, labeled A and B \n",
    "as shown, are at the same temperature \n",
    "and each contain the same number of \n",
    "moles of an ideal monatomic gas.  Which \n",
    "one of the following statements \n",
    "concerning these containers is true?   ![](try.png)\n",
    "\n",
    "\n",
    "1. The average speed of the atoms in the gas is greater in B than in A\n",
    "2. **The frequency of collisions of atoms with the walls of container B are greater than that for container A**\n",
    "3. The kinetic energy of the atoms in the gas is greater in B than in A\n",
    "4. The pressure withinn conatiner B is less than the pressure inside container A\n",
    "5. The fore that the atoms exert on the walls of container B are greater tan in for those in container A\n"
   ]
  },
  {
   "cell_type": "markdown",
   "metadata": {
    "slideshow": {
     "slide_type": "subslide"
    }
   },
   "source": [
    "Juan Antonio rapidly pulls a plunger out of a cylinder. As the plunger moves away, the gas molecules bouncing  elastically off the plunger are:\n",
    "\n",
    "1. Rebounding at a higher speed than they  would have if the plunger weren't removed.\n",
    "2. Rebounding at a lower speed than they  would have if the plunger weren't removed.\n",
    "3. Rebounding at the same speed than they  would have if the plunger weren't removed.\n",
    "4. Wheter they speed up or slow down depens on how fast the plunger is removed"
   ]
  },
  {
   "cell_type": "markdown",
   "metadata": {
    "slideshow": {
     "slide_type": "subslide"
    }
   },
   "source": [
    "\n",
    "**2. Rebounding at a lower speed than they would have if the plunger weren't removed.** ![](move.png)\n",
    "\n"
   ]
  },
  {
   "cell_type": "markdown",
   "metadata": {
    "slideshow": {
     "slide_type": "subslide"
    }
   },
   "source": [
    " <center> <h1>The pressure of a gas</h1></center>\n",
    "\n",
    "Last class Paul showed that:\n",
    "\n",
    "\n",
    "\n",
    "$$P = 2 n m <v_x ^2>$$\n",
    "\n",
    "\n",
    "<center>\n",
    "    <nb>\n",
    "<p align=\"center\">\n",
    "  <img width=\"200\"src=\"fgas.svg\">\n",
    "</p>\n",
    "</center>\n",
    "\n",
    "\n",
    "\n",
    "Nothing special about $v_x$ so:\n",
    "\n",
    "$$<v_x ^2>=<v_y ^2>=<v_z ^2>  = \\frac{1}{3} <v>^2$$\n",
    "\n",
    "and we write:\n",
    "\n",
    "$$\\boxed{P = \\frac{2}{3} n <\\frac{1}{2} m v^2> }$$\n",
    "\n",
    "\n",
    "\n"
   ]
  },
  {
   "cell_type": "markdown",
   "metadata": {
    "slideshow": {
     "slide_type": "subslide"
    }
   },
   "source": [
    " <center> <h1>The pressure of a gas</h1></center>\n",
    "\n",
    "\n",
    "\n",
    "$$P = \\frac{2}{3} n <\\frac{1}{2} m v^2> $$\n",
    "\n",
    "where we remember $n = \\frac{N}{V}$ and we can write:\n",
    "\n",
    "$$ P V = N \\frac{2}{3} <\\frac{1}{2} m v^2> $$\n",
    "\n",
    "\n"
   ]
  },
  {
   "cell_type": "markdown",
   "metadata": {
    "slideshow": {
     "slide_type": "subslide"
    }
   },
   "source": [
    "## Quantitative Example\n",
    "\n",
    "#### How fast do the move?\n",
    "\n",
    "The typical speed of an air molecule at room temperature (20°C) is\n",
    "\n",
    "1. nearly at rest (<10 km/h)\n",
    "2. on the order of 10 km/h\n",
    "3. on the order of 100 km/h\n",
    "4. on the order of 1000 km/h\n",
    "5. nearly the speed of light\n",
    "\n",
    "\n",
    "Can assume standard conditions $P = 1.0 \\times 10^5 N/m^2$, one mole of air $N = 6.02 \\times 10 ^{23}$, $V=22.4$  and $m_{air} = 4.8 \\times 10^{-26}$ (mass of $N_2$ )\n",
    "\n"
   ]
  },
  {
   "cell_type": "markdown",
   "metadata": {
    "slideshow": {
     "slide_type": "subslide"
    }
   },
   "source": [
    "## Quantitative Example\n",
    "\n",
    "#### How fast do the move?\n",
    "\n",
    "The typical speed of an air molecule at room temperature (20°C) is\n",
    "\n",
    "It is about 480 m/s, 1700 km/h, 1070 mph \n",
    "\n",
    "*Bonus question*: Why does it take 5 to 10 minutes for a perfume to travel accross a room?*"
   ]
  },
  {
   "cell_type": "markdown",
   "metadata": {
    "slideshow": {
     "slide_type": "subslide"
    }
   },
   "source": [
    "The pressure in a diver’s full oxygen tank  is  about $4 \\times 10^7$ (N/m$^2$) What  happens  to  the  average  speed of the particles when some of the oxygen is used  up and the pressure in the tank drops to half this value?  What assumptions did you make?"
   ]
  },
  {
   "cell_type": "markdown",
   "metadata": {
    "slideshow": {
     "slide_type": "fragment"
    }
   },
   "source": [
    "**If we assume that only N changes then $<v>$ stays the same.** However, when the gas expands, the gas inside the tank has to push outward  against  the  environment  in  order  to  leave  the  tank.  This requires energy, which lowers the average kinetic energy (and therefore the speed) of the particles inside."
   ]
  },
  {
   "cell_type": "markdown",
   "metadata": {
    "slideshow": {
     "slide_type": "slide"
    }
   },
   "source": [
    " <center> <h1>The pressure of a <emph>monoatomic</emph> gas</h1></center>\n",
    "\n",
    "- Ignore vibrations and complex internal interaction\n",
    "- Kinetic energy is the total energy $U$ or total internal energy\n",
    "- The internal energy is defined as $U = N <K>$\n",
    "\n",
    "$$\\boxed{PV= \\frac{2}{3}U}$$\n"
   ]
  },
  {
   "cell_type": "markdown",
   "metadata": {
    "slideshow": {
     "slide_type": "subslide"
    }
   },
   "source": [
    "Question\n",
    "\n",
    "For an ideal gas of a given mass, if the pressure remains the same and the volume increases:\n",
    "\n",
    "1. The total internal energy of the molecules decreases\n",
    "2. The total internal energy of the molecules  stays the same\n",
    "3. The total internal energy of the molecules increases\n",
    "4. Nothing can be determined about the molecular kinetic energy or total internal energy"
   ]
  },
  {
   "cell_type": "markdown",
   "metadata": {
    "slideshow": {
     "slide_type": "subslide"
    }
   },
   "source": [
    "Question\n",
    "\n",
    "For an ideal gas of a given mass, if the pressure remains the same and the volume increases:\n",
    "\n",
    "1. The total internal energy of the molecules decreases\n",
    "2. The total internal energy of the molecules  stays the same\n",
    "3. **The total internal energy of the molecules increases** $\\boxed{PV= \\frac{2}{3}U}$\n",
    "4. Nothing can be determined about the molecular kinetic energy or total internal energy\n",
    "\n",
    "\n"
   ]
  },
  {
   "cell_type": "markdown",
   "metadata": {
    "slideshow": {
     "slide_type": "subslide"
    }
   },
   "source": [
    "A quantity of a monatomic ideal gas expands to twice the volume while maintaining the same pressure. If \n",
    "the internal energy of the gas were  $U_0$ before the expansion, what is it after the expansion?\n",
    "\n",
    "1. $U_0$\n",
    "2. $2 U_0$\n",
    "3. $4 U_0$\n",
    "4. The change in temperature must also be known to answer this question"
   ]
  },
  {
   "cell_type": "markdown",
   "metadata": {
    "slideshow": {
     "slide_type": "subslide"
    }
   },
   "source": [
    "A quantity of a monatomic ideal gas expands to twice the volume while maintaining the same pressure. If \n",
    "the internal energy of the gas were  $U_0$ before the expansion, what is it after the expansion?\n",
    "\n",
    "1. $U_0$\n",
    "2. $\\mathbf{2 U_0}$\n",
    "3. $4 U_0$\n",
    "4. The change in temperature must also be known to answer this question"
   ]
  },
  {
   "cell_type": "markdown",
   "metadata": {
    "slideshow": {
     "slide_type": "slide"
    }
   },
   "source": [
    " <center> <h1>Compression of <emph>monoatomic</emph> gas</h1></center>\n",
    "\n",
    "We write (mainly for historical reasons) $PV= \\frac{2}{3}U$ as:\n",
    "\n",
    "$$PV = (\\gamma - 1 ) U$$\n",
    "\n",
    "$\\gamma = \\frac{5}{3}$ for monoatomic gass like helium. \n",
    "\n",
    "Paul showed last class that the differential work $dW$ done on the gas is:\n",
    "\n",
    "$$dW = -P dV$$\n",
    "\n",
    "minus sign is important. If we compress it, work is done on the gas. "
   ]
  },
  {
   "cell_type": "markdown",
   "metadata": {
    "slideshow": {
     "slide_type": "subslide"
    }
   },
   "source": [
    " <center> <h1>Adiabatic Compression </h1> </center>\n",
    "\n",
    "- no heat energy added or removed\n",
    "- All the work done goest into changing the internal energy so $PdV = -dW = -dU$\n",
    "- $U =PV/(\\gamma-1)$, so $dU = (P dV + V dP)/(\\gamma -1)$\n",
    "\n",
    "We can write:\n",
    "\n",
    "$$ PdV = - dU = - (P dV + V dP)/(\\gamma -1) $$\n",
    "\n",
    "We rearrange the terms and get:\n",
    "\n",
    "$$\\gamma P dV = - V dP$$\n",
    "\n"
   ]
  },
  {
   "cell_type": "markdown",
   "metadata": {
    "slideshow": {
     "slide_type": "subslide"
    }
   },
   "source": [
    " <center> <h1>Adiabatic  Compression </h1> </center>\n",
    "\n",
    "\n",
    "We divide $\\gamma P dV = - V dP$ by PV and we get beautiful differential equation:\n",
    "\n",
    "$$(\\gamma dV/V) + (dP/P) = 0$$\n",
    "\n",
    "**Your turn**: Assume $\\gamma$ is constant and integrate and we get:\n"
   ]
  },
  {
   "cell_type": "markdown",
   "metadata": {
    "slideshow": {
     "slide_type": "fragment"
    }
   },
   "source": [
    "$$ \\gamma \\ln V + \\ln P = \\ln C $$ or \n",
    "\n",
    "$$\\boxed{PV^\\gamma = C\\text{  (a constant})} $$\n"
   ]
  },
  {
   "cell_type": "markdown",
   "metadata": {
    "slideshow": {
     "slide_type": "subslide"
    }
   },
   "source": [
    "# Your turn\n",
    "\n",
    "\n",
    "In  a  system  composed  of  an  ideal  gas  contained  in  a  cylinder  fitted  with  a  frictionless  piston,  a  \n",
    "adiabatic  expansion  causes  the  temperature  of  the  gas  to  drop  because:\n",
    "\n",
    "1. heat  is  given  up  by  the  system  when  the  piston  moves. \n",
    "2. the  pressure  of  the  gas  remains  constant.  \n",
    "3. work  done  by  the  system  is  done  entirely  at  the  expense  of  its  internal  energy.  \n",
    "4. heat  is  absorbed  by  the  piston  when  it  does  work.  "
   ]
  },
  {
   "cell_type": "markdown",
   "metadata": {
    "slideshow": {
     "slide_type": "subslide"
    }
   },
   "source": [
    "# Your turn\n",
    "\n",
    "\n",
    "In  a  system  composed  of  an  ideal  gas  contained  in  a  cylinder  fitted  with  a  frictionless  piston,  a  \n",
    "adiabatic  expansion  causes  the  temperature  of  the  gas  to  drop  because:\n",
    "\n",
    "1. heat  is  given  up  by  the  system  when  the  piston  moves. \n",
    "2. the  pressure  of  the  gas  remains  constant.  \n",
    "3. **work  done  by  the  system  is  done  entirely  at  the  expense  of  its  internal  energy.**\n",
    "4. heat  is  absorbed  by  the  piston  when  it  does  work.  "
   ]
  },
  {
   "cell_type": "markdown",
   "metadata": {
    "slideshow": {
     "slide_type": "subslide"
    }
   },
   "source": [
    "A monatomic ideal gas is compressed to one-half its original volume during an adiabatic process. The final pressure of the gas\n",
    "\n",
    "1. Increases to twice its original value\n",
    "2. Increases to less than twice its original value\n",
    "3. Increases to more than twice its original value\n",
    "4. Does not change\n",
    "\n"
   ]
  },
  {
   "cell_type": "markdown",
   "metadata": {
    "slideshow": {
     "slide_type": "subslide"
    }
   },
   "source": [
    "A monatomic ideal gas is compressed to one-half its original volume during an adiabatic process. The final pressure of the gas\n",
    "\n",
    "1. Increases to twice its original value\n",
    "2. Increases to less than twice its original value\n",
    "3. **Increases to more than twice its original value**\n",
    "4. Does not change\n",
    "\n"
   ]
  },
  {
   "cell_type": "markdown",
   "metadata": {
    "slideshow": {
     "slide_type": "subslide"
    }
   },
   "source": [
    "Consider two cylinders of gas identical in all respects except that one contains $N_2$ and the other He. Both hold the same volume of gas at Standard conditions for temperature and pressure (STP) and are closed by a movable piston at one end. Both gases are now compressed adiabatically to one-third their original volume. Which gas will show the greater pressure increase? Remember **$\\gamma = 5/3$** for monatomic gases and **$\\gamma = 7/5$** for diatomic \n",
    "\n",
    "1. the O$_2$\n",
    "2. the He\n",
    "3. Neither; both will show the same increase\n",
    "4. It's impossible to tell from the information given\n"
   ]
  },
  {
   "cell_type": "markdown",
   "metadata": {
    "slideshow": {
     "slide_type": "subslide"
    }
   },
   "source": [
    "Consider two cylinders of gas identical in all respects except that one contains $N_2$ and the other He. Both hold the same volume of gas at Standard conditions for temperature and pressure (STP) and are closed by a movable piston at one end. Both gases are now compressed adiabatically to one-third their original volume. Which gas will show the greater pressure increase? Remember **$\\gamma = 5/3$** for monatomic gases and **$\\gamma = 7/5$** for diatomic \n",
    "\n",
    "1. the O$_2$\n",
    "2. **the He**\n",
    "3. Neither; both will show the same increase\n",
    "4. It's impossible to tell from the information given"
   ]
  },
  {
   "cell_type": "markdown",
   "metadata": {
    "slideshow": {
     "slide_type": "subslide"
    }
   },
   "source": [
    "# Example\n",
    "\n",
    "Suppose that a bubbles form at the bottom of a lake. The bubble rises quickly so that no heat is exchanged with the surrounding water. What is the final volume of the bubble at the top of the lake?"
   ]
  },
  {
   "cell_type": "markdown",
   "metadata": {
    "slideshow": {
     "slide_type": "fragment"
    }
   },
   "source": [
    "**$$V_f = \\left ( \\frac{P_i}{P_f} \\right )^{1/\\gamma} V_i$$**\n",
    "\n",
    "**Bonus for the future**: Assume a second bubble B rises slowly so that  its temperature remains constant (assuming that the lake’s water temperature is the same everywhere). Would this bubble expand more or less?"
   ]
  },
  {
   "cell_type": "markdown",
   "metadata": {
    "slideshow": {
     "slide_type": "slide"
    }
   },
   "source": [
    "\n",
    "<center><h1>Compressibility of radiation</h1></center>\n",
    "\n",
    "What if we have pressure dominated by photons? Think very hot stars\n",
    "\n",
    "- Remember that for a gas $F = n v_x A \\cdot 2 m v_x = n v_x A \\cdot \\mathbf{2 p_x} $\n",
    "- For photons same logic stills apply and:\n",
    "\n",
    "$$P = 2 n p_x v_x$$\n",
    "\n",
    "\n"
   ]
  },
  {
   "cell_type": "markdown",
   "metadata": {
    "slideshow": {
     "slide_type": "subslide"
    }
   },
   "source": [
    "\n",
    "<center><h1>Compressibility of radiation</h1></center>\n",
    "\n",
    "- $P = 2 n p_x v_x$\n",
    "- There is nothing special about $v_x$ and we get:\n",
    "\n",
    "$$PV = N \\frac{1}{3} < \\vec p \\cdot \\vec v> $$\n",
    "**This is true for atoms too**\n"
   ]
  },
  {
   "cell_type": "markdown",
   "metadata": {
    "slideshow": {
     "slide_type": "subslide"
    }
   },
   "source": [
    "\n",
    "<center><h1>Compressibility of radiation</h1></center>\n",
    "\n",
    "- $PV = N \\frac{1}{3} < \\vec p \\cdot \\vec v> $\n",
    "- For every single photon: $\\vec p \\cdot \\vec v = pv =  p c = E$\n",
    "- PV is the number of photons times the average energy or:\n",
    "\n",
    "$$ PV=  \\frac{N <E>}{3}  =  \\frac{1}{3} U      \\, \\text{  (photon gas)}$$\n",
    "\n",
    "**PV is $\\frac{1}{3}$ the energy iside the gas**\n"
   ]
  },
  {
   "cell_type": "markdown",
   "metadata": {
    "slideshow": {
     "slide_type": "subslide"
    }
   },
   "source": [
    "\n",
    "<center><h1>Compressibility of radiation</h1></center>\n",
    "\n",
    "- Remember  $PV = (\\gamma - 1 ) U$\n",
    "- So $\\gamma_{photon} = \\frac{4}{3}$\n",
    "\n",
    "$$\\boxed{PV^{4/3} =C  }$$"
   ]
  }
 ],
 "metadata": {
  "celltoolbar": "Slideshow",
  "kernelspec": {
   "display_name": "Python 3",
   "language": "python",
   "name": "python3"
  },
  "language_info": {
   "codemirror_mode": {
    "name": "ipython",
    "version": 3
   },
   "file_extension": ".py",
   "mimetype": "text/x-python",
   "name": "python",
   "nbconvert_exporter": "python",
   "pygments_lexer": "ipython3",
   "version": "3.7.2"
  }
 },
 "nbformat": 4,
 "nbformat_minor": 2
}
